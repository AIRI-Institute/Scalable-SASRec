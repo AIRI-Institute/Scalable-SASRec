{
 "cells": [
  {
   "cell_type": "code",
   "execution_count": 26,
   "id": "2713764b-d7f7-40ec-99ab-b5f0d730b109",
   "metadata": {},
   "outputs": [],
   "source": [
    "import pandas as pd"
   ]
  },
  {
   "cell_type": "code",
   "execution_count": 27,
   "id": "50969865-4605-4add-b11e-ea16bf5da99d",
   "metadata": {},
   "outputs": [],
   "source": [
    "def filter_items(df, item_min_count, item_col='itemid', user_col='userid'):\n",
    "    \n",
    "    item_count = df.groupby(item_col)[user_col].nunique()\n",
    "    item_ids = item_count[item_count >= item_min_count].index\n",
    "    df = df[df[item_col].isin(item_ids)]\n",
    "\n",
    "    return df\n",
    "\n",
    "\n",
    "def filter_users(df, user_min_count, user_col='userid', item_col='itemid'):\n",
    "    user_count = df.groupby(user_col)[item_col].nunique()\n",
    "    user_ids = user_count[user_count >= user_min_count].index\n",
    "    df = df[df[user_col].isin(user_ids)]\n",
    "    \n",
    "    return df"
   ]
  },
  {
   "cell_type": "code",
   "execution_count": 28,
   "id": "ba836d6e-cbae-4dfc-9657-e72039b56f1a",
   "metadata": {},
   "outputs": [],
   "source": [
    "config = {\n",
    "    'user_min_count': 20,\n",
    "    'item_min_count': 5\n",
    "}"
   ]
  },
  {
   "cell_type": "code",
   "execution_count": 29,
   "id": "b7c13d81-0a84-4a91-b5e0-2a5211157d81",
   "metadata": {},
   "outputs": [
    {
     "data": {
      "text/html": [
       "<div>\n",
       "<style scoped>\n",
       "    .dataframe tbody tr th:only-of-type {\n",
       "        vertical-align: middle;\n",
       "    }\n",
       "\n",
       "    .dataframe tbody tr th {\n",
       "        vertical-align: top;\n",
       "    }\n",
       "\n",
       "    .dataframe thead th {\n",
       "        text-align: right;\n",
       "    }\n",
       "</style>\n",
       "<table border=\"1\" class=\"dataframe\">\n",
       "  <thead>\n",
       "    <tr style=\"text-align: right;\">\n",
       "      <th></th>\n",
       "      <th>timestamp</th>\n",
       "      <th>userid</th>\n",
       "      <th>itemid</th>\n",
       "    </tr>\n",
       "  </thead>\n",
       "  <tbody>\n",
       "    <tr>\n",
       "      <th>0</th>\n",
       "      <td>1234817823</td>\n",
       "      <td>stcules</td>\n",
       "      <td>47986</td>\n",
       "    </tr>\n",
       "    <tr>\n",
       "      <th>1</th>\n",
       "      <td>1235915097</td>\n",
       "      <td>stcules</td>\n",
       "      <td>48213</td>\n",
       "    </tr>\n",
       "    <tr>\n",
       "      <th>2</th>\n",
       "      <td>1235916604</td>\n",
       "      <td>stcules</td>\n",
       "      <td>48215</td>\n",
       "    </tr>\n",
       "    <tr>\n",
       "      <th>3</th>\n",
       "      <td>1234725145</td>\n",
       "      <td>stcules</td>\n",
       "      <td>47969</td>\n",
       "    </tr>\n",
       "    <tr>\n",
       "      <th>4</th>\n",
       "      <td>1293735206</td>\n",
       "      <td>johnmichaelsen</td>\n",
       "      <td>64883</td>\n",
       "    </tr>\n",
       "  </tbody>\n",
       "</table>\n",
       "</div>"
      ],
      "text/plain": [
       "    timestamp          userid  itemid\n",
       "0  1234817823         stcules   47986\n",
       "1  1235915097         stcules   48213\n",
       "2  1235916604         stcules   48215\n",
       "3  1234725145         stcules   47969\n",
       "4  1293735206  johnmichaelsen   64883"
      ]
     },
     "execution_count": 29,
     "metadata": {},
     "output_type": "execute_result"
    }
   ],
   "source": [
    "df = pd.read_csv('datasets/beer_reviews.csv').drop(\n",
    "    ['brewery_id', 'brewery_name','review_overall','review_aroma','review_appearance','beer_style','review_palate','review_taste','beer_name','beer_abv'],\n",
    "    axis=1\n",
    ").rename(columns={'beer_beerid':'itemid','review_time':'timestamp','review_profilename':'userid'})\n",
    "df.head()"
   ]
  },
  {
   "cell_type": "code",
   "execution_count": 30,
   "id": "d3434929-1469-4516-9079-4e4675361c9f",
   "metadata": {},
   "outputs": [
    {
     "data": {
      "text/plain": [
       "timestamp    1577960\n",
       "userid         33387\n",
       "itemid         66055\n",
       "dtype: int64"
      ]
     },
     "execution_count": 30,
     "metadata": {},
     "output_type": "execute_result"
    }
   ],
   "source": [
    "df.nunique()"
   ]
  },
  {
   "cell_type": "code",
   "execution_count": 31,
   "id": "7d8944fc-a07e-405a-b836-a2520c25cd50",
   "metadata": {},
   "outputs": [],
   "source": [
    "df_ = filter_items(df, config['item_min_count'])\n",
    "df_ = filter_users(df_, config['user_min_count'])"
   ]
  },
  {
   "cell_type": "code",
   "execution_count": 32,
   "id": "e50292d6-6507-4014-8a1e-474e753334fa",
   "metadata": {},
   "outputs": [
    {
     "data": {
      "text/html": [
       "<div>\n",
       "<style scoped>\n",
       "    .dataframe tbody tr th:only-of-type {\n",
       "        vertical-align: middle;\n",
       "    }\n",
       "\n",
       "    .dataframe tbody tr th {\n",
       "        vertical-align: top;\n",
       "    }\n",
       "\n",
       "    .dataframe thead th {\n",
       "        text-align: right;\n",
       "    }\n",
       "</style>\n",
       "<table border=\"1\" class=\"dataframe\">\n",
       "  <thead>\n",
       "    <tr style=\"text-align: right;\">\n",
       "      <th></th>\n",
       "      <th>timestamp</th>\n",
       "      <th>userid</th>\n",
       "      <th>itemid</th>\n",
       "    </tr>\n",
       "  </thead>\n",
       "  <tbody>\n",
       "    <tr>\n",
       "      <th>5</th>\n",
       "      <td>1325524659</td>\n",
       "      <td>oline73</td>\n",
       "      <td>52159</td>\n",
       "    </tr>\n",
       "    <tr>\n",
       "      <th>6</th>\n",
       "      <td>1318991115</td>\n",
       "      <td>Reidrover</td>\n",
       "      <td>52159</td>\n",
       "    </tr>\n",
       "    <tr>\n",
       "      <th>7</th>\n",
       "      <td>1306276018</td>\n",
       "      <td>alpinebryant</td>\n",
       "      <td>52159</td>\n",
       "    </tr>\n",
       "    <tr>\n",
       "      <th>8</th>\n",
       "      <td>1290454503</td>\n",
       "      <td>LordAdmNelson</td>\n",
       "      <td>52159</td>\n",
       "    </tr>\n",
       "    <tr>\n",
       "      <th>9</th>\n",
       "      <td>1285632924</td>\n",
       "      <td>augustgarage</td>\n",
       "      <td>52159</td>\n",
       "    </tr>\n",
       "  </tbody>\n",
       "</table>\n",
       "</div>"
      ],
      "text/plain": [
       "    timestamp         userid  itemid\n",
       "5  1325524659        oline73   52159\n",
       "6  1318991115      Reidrover   52159\n",
       "7  1306276018   alpinebryant   52159\n",
       "8  1290454503  LordAdmNelson   52159\n",
       "9  1285632924   augustgarage   52159"
      ]
     },
     "execution_count": 32,
     "metadata": {},
     "output_type": "execute_result"
    }
   ],
   "source": [
    "df_.head()"
   ]
  },
  {
   "cell_type": "code",
   "execution_count": 33,
   "id": "0bec62ee-c77b-4301-b238-c710cd9f0c43",
   "metadata": {},
   "outputs": [
    {
     "name": "stdout",
     "output_type": "stream",
     "text": [
      "(1409494, 3)\n"
     ]
    }
   ],
   "source": [
    "df_ = df_.sort_values(['userid', 'timestamp'])\n",
    "print(df_.shape)"
   ]
  },
  {
   "cell_type": "code",
   "execution_count": 34,
   "id": "87b5d1bc-57da-4244-b96b-ac8f0988fd84",
   "metadata": {},
   "outputs": [],
   "source": [
    "df_.userid = df_.userid.astype('category').cat.codes\n",
    "df_.itemid = df_.itemid.astype('category').cat.codes"
   ]
  },
  {
   "cell_type": "code",
   "execution_count": 35,
   "id": "9e668f34-e6f8-4e63-a443-e40fb7fec989",
   "metadata": {
    "scrolled": true
   },
   "outputs": [
    {
     "name": "stdout",
     "output_type": "stream",
     "text": [
      "(1409494, 3)\n"
     ]
    },
    {
     "data": {
      "text/html": [
       "<div>\n",
       "<style scoped>\n",
       "    .dataframe tbody tr th:only-of-type {\n",
       "        vertical-align: middle;\n",
       "    }\n",
       "\n",
       "    .dataframe tbody tr th {\n",
       "        vertical-align: top;\n",
       "    }\n",
       "\n",
       "    .dataframe thead th {\n",
       "        text-align: right;\n",
       "    }\n",
       "</style>\n",
       "<table border=\"1\" class=\"dataframe\">\n",
       "  <thead>\n",
       "    <tr style=\"text-align: right;\">\n",
       "      <th></th>\n",
       "      <th>timestamp</th>\n",
       "      <th>userid</th>\n",
       "      <th>itemid</th>\n",
       "    </tr>\n",
       "  </thead>\n",
       "  <tbody>\n",
       "    <tr>\n",
       "      <th>614509</th>\n",
       "      <td>1205561385</td>\n",
       "      <td>0</td>\n",
       "      <td>5558</td>\n",
       "    </tr>\n",
       "    <tr>\n",
       "      <th>182729</th>\n",
       "      <td>1205823873</td>\n",
       "      <td>0</td>\n",
       "      <td>4224</td>\n",
       "    </tr>\n",
       "    <tr>\n",
       "      <th>1134674</th>\n",
       "      <td>1207011338</td>\n",
       "      <td>0</td>\n",
       "      <td>4577</td>\n",
       "    </tr>\n",
       "    <tr>\n",
       "      <th>462893</th>\n",
       "      <td>1207362193</td>\n",
       "      <td>0</td>\n",
       "      <td>9778</td>\n",
       "    </tr>\n",
       "    <tr>\n",
       "      <th>886485</th>\n",
       "      <td>1208211124</td>\n",
       "      <td>0</td>\n",
       "      <td>13122</td>\n",
       "    </tr>\n",
       "  </tbody>\n",
       "</table>\n",
       "</div>"
      ],
      "text/plain": [
       "          timestamp  userid  itemid\n",
       "614509   1205561385       0    5558\n",
       "182729   1205823873       0    4224\n",
       "1134674  1207011338       0    4577\n",
       "462893   1207362193       0    9778\n",
       "886485   1208211124       0   13122"
      ]
     },
     "execution_count": 35,
     "metadata": {},
     "output_type": "execute_result"
    }
   ],
   "source": [
    "print(df_.shape)\n",
    "df_.head()"
   ]
  },
  {
   "cell_type": "code",
   "execution_count": 36,
   "id": "ed828bad-d5cc-48a9-8ae2-24a2b8e2f073",
   "metadata": {},
   "outputs": [
    {
     "data": {
      "text/plain": [
       "timestamp    1402657\n",
       "userid          7606\n",
       "itemid         22307\n",
       "dtype: int64"
      ]
     },
     "execution_count": 36,
     "metadata": {},
     "output_type": "execute_result"
    }
   ],
   "source": [
    "df_.nunique()"
   ]
  },
  {
   "cell_type": "code",
   "execution_count": 37,
   "id": "af33a728-3f09-48cf-9dc0-361452007217",
   "metadata": {},
   "outputs": [],
   "source": [
    "df_.to_csv('beer_advocate.csv', index=False)"
   ]
  },
  {
   "cell_type": "code",
   "execution_count": null,
   "id": "88be9b1b-4e0e-408f-b696-5f4f8f5eaa1f",
   "metadata": {},
   "outputs": [],
   "source": []
  }
 ],
 "metadata": {
  "kernelspec": {
   "display_name": "Python 3 (ipykernel)",
   "language": "python",
   "name": "python3"
  },
  "language_info": {
   "codemirror_mode": {
    "name": "ipython",
    "version": 3
   },
   "file_extension": ".py",
   "mimetype": "text/x-python",
   "name": "python",
   "nbconvert_exporter": "python",
   "pygments_lexer": "ipython3",
   "version": "3.10.12"
  }
 },
 "nbformat": 4,
 "nbformat_minor": 5
}
